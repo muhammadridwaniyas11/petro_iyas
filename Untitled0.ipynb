{
  "nbformat": 4,
  "nbformat_minor": 0,
  "metadata": {
    "colab": {
      "name": "Untitled0.ipynb",
      "version": "0.3.2",
      "provenance": [],
      "include_colab_link": true
    },
    "kernelspec": {
      "name": "python3",
      "display_name": "Python 3"
    }
  },
  "cells": [
    {
      "cell_type": "markdown",
      "metadata": {
        "id": "view-in-github",
        "colab_type": "text"
      },
      "source": [
        "<a href=\"https://colab.research.google.com/github/muhammadridwaniyas11/petro_iyas/blob/master/Untitled0.ipynb\" target=\"_parent\"><img src=\"https://colab.research.google.com/assets/colab-badge.svg\" alt=\"Open In Colab\"/></a>"
      ]
    },
    {
      "metadata": {
        "id": "NjXYqS43ojZs",
        "colab_type": "code",
        "outputId": "7c0827da-9748-4176-addd-24c1a65c3dd2",
        "colab": {
          "base_uri": "https://localhost:8080/",
          "height": 122
        }
      },
      "cell_type": "code",
      "source": [
        "from google.colab import drive\n",
        "drive.mount('/content/drive')"
      ],
      "execution_count": 1,
      "outputs": [
        {
          "output_type": "stream",
          "text": [
            "Go to this URL in a browser: https://accounts.google.com/o/oauth2/auth?client_id=947318989803-6bn6qk8qdgf4n4g3pfee6491hc0brc4i.apps.googleusercontent.com&redirect_uri=urn%3Aietf%3Awg%3Aoauth%3A2.0%3Aoob&scope=email%20https%3A%2F%2Fwww.googleapis.com%2Fauth%2Fdocs.test%20https%3A%2F%2Fwww.googleapis.com%2Fauth%2Fdrive%20https%3A%2F%2Fwww.googleapis.com%2Fauth%2Fdrive.photos.readonly%20https%3A%2F%2Fwww.googleapis.com%2Fauth%2Fpeopleapi.readonly&response_type=code\n",
            "\n",
            "Enter your authorization code:\n",
            "··········\n",
            "Mounted at /content/drive\n"
          ],
          "name": "stdout"
        }
      ]
    },
    {
      "metadata": {
        "id": "1UPGlHjzpKjL",
        "colab_type": "code",
        "outputId": "50921314-4ee3-4326-c62c-922881fb2880",
        "colab": {
          "base_uri": "https://localhost:8080/",
          "height": 34
        }
      },
      "cell_type": "code",
      "source": [
        "cd /content/drive/My Drive/"
      ],
      "execution_count": 2,
      "outputs": [
        {
          "output_type": "stream",
          "text": [
            "/content/drive/My Drive\n"
          ],
          "name": "stdout"
        }
      ]
    },
    {
      "metadata": {
        "id": "vVAELNcRIdmo",
        "colab_type": "code",
        "colab": {
          "base_uri": "https://localhost:8080/",
          "height": 102
        },
        "outputId": "0b8c19e2-1d8c-4b20-d409-ce638e3ef778"
      },
      "cell_type": "code",
      "source": [
        "!ls -al ~/.ssh"
      ],
      "execution_count": 9,
      "outputs": [
        {
          "output_type": "stream",
          "text": [
            "total 20\n",
            "drwx------ 2 root root 4096 Apr  6 10:12 .\n",
            "drwx------ 1 root root 4096 Apr  6 10:12 ..\n",
            "-rw------- 1 root root 3243 Apr  6 10:12 id_rsa\n",
            "-rw-r--r-- 1 root root  756 Apr  6 10:12 id_rsa.pub\n"
          ],
          "name": "stdout"
        }
      ]
    },
    {
      "metadata": {
        "id": "Fh0VNKBaIdpP",
        "colab_type": "code",
        "colab": {
          "base_uri": "https://localhost:8080/",
          "height": 374
        },
        "outputId": "5147d711-211e-4128-fc50-83921b100e0e"
      },
      "cell_type": "code",
      "source": [
        "!ssh-keygen -t rsa -b 4096 -C \"muhammadridwaniyas11@gmail.com\""
      ],
      "execution_count": 4,
      "outputs": [
        {
          "output_type": "stream",
          "text": [
            "Generating public/private rsa key pair.\n",
            "Enter file in which to save the key (/root/.ssh/id_rsa): \n",
            "Created directory '/root/.ssh'.\n",
            "Enter passphrase (empty for no passphrase): \n",
            "Enter same passphrase again: \n",
            "Your identification has been saved in /root/.ssh/id_rsa.\n",
            "Your public key has been saved in /root/.ssh/id_rsa.pub.\n",
            "The key fingerprint is:\n",
            "SHA256:HGT8CVFhgFssjgSnO9q6+EhuqL3lVDXMgaufvP02+Ik muhammadridwaniyas11@gmail.com\n",
            "The key's randomart image is:\n",
            "+---[RSA 4096]----+\n",
            "|  ...  =*++.     |\n",
            "|   o. +==o       |\n",
            "|  .. o =*o .     |\n",
            "|   .. +o oo      |\n",
            "|  o  .. S        |\n",
            "| o ...           |\n",
            "|o.. oo . .       |\n",
            "|== +  +...o.     |\n",
            "|O++.. ..E++.     |\n",
            "+----[SHA256]-----+\n"
          ],
          "name": "stdout"
        }
      ]
    },
    {
      "metadata": {
        "id": "8badv2fDIdvb",
        "colab_type": "code",
        "colab": {
          "base_uri": "https://localhost:8080/",
          "height": 34
        },
        "outputId": "2d2dc9d6-1f7d-4db5-b73b-48da02d7cc22"
      },
      "cell_type": "code",
      "source": [
        "!eval $(ssh-agent -s)"
      ],
      "execution_count": 5,
      "outputs": [
        {
          "output_type": "stream",
          "text": [
            "Agent pid 405\n"
          ],
          "name": "stdout"
        }
      ]
    },
    {
      "metadata": {
        "id": "I1UpesLXIdyl",
        "colab_type": "code",
        "colab": {
          "base_uri": "https://localhost:8080/",
          "height": 34
        },
        "outputId": "d8402ca5-6672-4c39-9e0a-20b8cae967dc"
      },
      "cell_type": "code",
      "source": [
        "!ssh-add ~/.ssh/id_rsa"
      ],
      "execution_count": 8,
      "outputs": [
        {
          "output_type": "stream",
          "text": [
            "Could not open a connection to your authentication agent.\n"
          ],
          "name": "stdout"
        }
      ]
    },
    {
      "metadata": {
        "id": "1nIhoCSZId4S",
        "colab_type": "code",
        "colab": {
          "base_uri": "https://localhost:8080/",
          "height": 34
        },
        "outputId": "f61e53af-badf-43b7-9821-5022f18f441d"
      },
      "cell_type": "code",
      "source": [
        "!eval `ssh-agent -s`"
      ],
      "execution_count": 7,
      "outputs": [
        {
          "output_type": "stream",
          "text": [
            "Agent pid 412\n"
          ],
          "name": "stdout"
        }
      ]
    },
    {
      "metadata": {
        "id": "Rl-fG2-aId7X",
        "colab_type": "code",
        "colab": {
          "base_uri": "https://localhost:8080/",
          "height": 34
        },
        "outputId": "d10af1ce-2b65-4ea6-a647-d7fbad8ac11a"
      },
      "cell_type": "code",
      "source": [
        "!eval `ssh-agent`"
      ],
      "execution_count": 10,
      "outputs": [
        {
          "output_type": "stream",
          "text": [
            "Agent pid 428\n"
          ],
          "name": "stdout"
        }
      ]
    },
    {
      "metadata": {
        "id": "S_GkeRoTId-l",
        "colab_type": "code",
        "colab": {
          "base_uri": "https://localhost:8080/",
          "height": 34
        },
        "outputId": "77f3f9da-7200-4002-f878-417ece4044ee"
      },
      "cell_type": "code",
      "source": [
        "!ssh-add ~/.ssh/id_rsa.pub"
      ],
      "execution_count": 11,
      "outputs": [
        {
          "output_type": "stream",
          "text": [
            "Could not open a connection to your authentication agent.\n"
          ],
          "name": "stdout"
        }
      ]
    },
    {
      "metadata": {
        "id": "fPkizG_nIeCA",
        "colab_type": "code",
        "colab": {
          "base_uri": "https://localhost:8080/",
          "height": 51
        },
        "outputId": "d3f2665e-7e21-4e14-ff77-78c9c1a7e8b0"
      },
      "cell_type": "code",
      "source": [
        "!git status"
      ],
      "execution_count": 12,
      "outputs": [
        {
          "output_type": "stream",
          "text": [
            "fatal: not a git repository (or any parent up to mount point /content)\n",
            "Stopping at filesystem boundary (GIT_DISCOVERY_ACROSS_FILESYSTEM not set).\n"
          ],
          "name": "stdout"
        }
      ]
    },
    {
      "metadata": {
        "id": "GhATtyRUIeH9",
        "colab_type": "code",
        "colab": {
          "base_uri": "https://localhost:8080/",
          "height": 34
        },
        "outputId": "339a876e-4885-44ad-dfc9-af71ade64fef"
      },
      "cell_type": "code",
      "source": [
        "cd logs"
      ],
      "execution_count": 14,
      "outputs": [
        {
          "output_type": "stream",
          "text": [
            "/content/drive/My Drive/Mask_RCNN/logs\n"
          ],
          "name": "stdout"
        }
      ]
    },
    {
      "metadata": {
        "id": "FqYDUxDqKj_3",
        "colab_type": "code",
        "colab": {
          "base_uri": "https://localhost:8080/",
          "height": 34
        },
        "outputId": "dce2d28f-36ba-4c51-b2f1-e5d529896dc1"
      },
      "cell_type": "code",
      "source": [
        "!git init"
      ],
      "execution_count": 15,
      "outputs": [
        {
          "output_type": "stream",
          "text": [
            "Initialized empty Git repository in /content/drive/My Drive/Mask_RCNN/logs/.git/\n"
          ],
          "name": "stdout"
        }
      ]
    },
    {
      "metadata": {
        "id": "H7RzUDy0KkCX",
        "colab_type": "code",
        "colab": {
          "base_uri": "https://localhost:8080/",
          "height": 34
        },
        "outputId": "d65a884b-698b-417b-d87b-f3434c576a9e"
      },
      "cell_type": "code",
      "source": [
        "cd .."
      ],
      "execution_count": 17,
      "outputs": [
        {
          "output_type": "stream",
          "text": [
            "/content/drive/My Drive\n"
          ],
          "name": "stdout"
        }
      ]
    },
    {
      "metadata": {
        "id": "LFtLyZvnKkIi",
        "colab_type": "code",
        "colab": {
          "base_uri": "https://localhost:8080/",
          "height": 867
        },
        "outputId": "95bc3134-4ea7-401b-d51a-629611bde585"
      },
      "cell_type": "code",
      "source": [
        "!wget -NS --content-disposition \"https://console.clouderizer.com/givemeinitsh/Ct1CyTxJ\" && bash ./clouderizer_init.sh"
      ],
      "execution_count": 18,
      "outputs": [
        {
          "output_type": "stream",
          "text": [
            "--2019-04-06 11:09:58--  https://console.clouderizer.com/givemeinitsh/Ct1CyTxJ\n",
            "Resolving console.clouderizer.com (console.clouderizer.com)... 35.211.27.27\n",
            "Connecting to console.clouderizer.com (console.clouderizer.com)|35.211.27.27|:443... connected.\n",
            "HTTP request sent, awaiting response... \n",
            "  HTTP/1.1 200 OK\n",
            "  Server: nginx/1.10.3 (Ubuntu)\n",
            "  Date: Sat, 06 Apr 2019 11:09:58 GMT\n",
            "  Content-Type: application/octet-stream; charset=utf-8\n",
            "  Content-Length: 5670\n",
            "  Connection: keep-alive\n",
            "  X-Powered-By: Sails <sailsjs.org>\n",
            "  Access-Control-Allow-Origin: \n",
            "  Access-Control-Allow-Credentials: \n",
            "  Access-Control-Allow-Methods: \n",
            "  Access-Control-Allow-Headers: \n",
            "  Access-Control-Expose-Headers: \n",
            "  Content-Disposition: attachment; filename=\"clouderizer_init.sh\"\n",
            "  ETag: W/\"1626-PiIipWJwSPjq4nFd96b36Q\"\n",
            "  set-cookie: sails.sid=s%3AZcvgtzvALBXS3VG0sLE5KCT5LWCtD6ua.t%2Bz5zb7X1PvTZ3v5QWbn8ud48P40w0PvQV2ihaif%2BrQ; Path=/; HttpOnly\n",
            "Length: 5670 (5.5K) [application/octet-stream]\n",
            "Last-modified header missing -- time-stamps turned off.\n",
            "--2019-04-06 11:09:58--  https://console.clouderizer.com/givemeinitsh/Ct1CyTxJ\n",
            "Reusing existing connection to console.clouderizer.com:443.\n",
            "HTTP request sent, awaiting response... \n",
            "  HTTP/1.1 200 OK\n",
            "  Server: nginx/1.10.3 (Ubuntu)\n",
            "  Date: Sat, 06 Apr 2019 11:09:58 GMT\n",
            "  Content-Type: application/octet-stream; charset=utf-8\n",
            "  Content-Length: 5670\n",
            "  Connection: keep-alive\n",
            "  X-Powered-By: Sails <sailsjs.org>\n",
            "  Access-Control-Allow-Origin: \n",
            "  Access-Control-Allow-Credentials: \n",
            "  Access-Control-Allow-Methods: \n",
            "  Access-Control-Allow-Headers: \n",
            "  Access-Control-Expose-Headers: \n",
            "  Content-Disposition: attachment; filename=\"clouderizer_init.sh\"\n",
            "  ETag: W/\"1626-PiIipWJwSPjq4nFd96b36Q\"\n",
            "Length: 5670 (5.5K) [application/octet-stream]\n",
            "Saving to: ‘clouderizer_init.sh’\n",
            "\n",
            "\rclouderizer_init.sh   0%[                    ]       0  --.-KB/s               \rclouderizer_init.sh 100%[===================>]   5.54K  --.-KB/s    in 0s      \n",
            "\n",
            "2019-04-06 11:09:58 (298 MB/s) - ‘clouderizer_init.sh’ saved [5670/5670]\n",
            "\n",
            "Great! Your Clouderizer project is initializing...it might take few minutes before it is ready.\n",
            "\n",
            "**************************************************************************************\n",
            "YOU SHOULD NOW SWITCH BACK TO CLOUDERIZER WEB PAGE TO START WORKING ON YOUR PROJECT\n",
            "**************************************************************************************\n"
          ],
          "name": "stdout"
        }
      ]
    },
    {
      "metadata": {
        "id": "g9dGzMYgKkNP",
        "colab_type": "code",
        "colab": {
          "base_uri": "https://localhost:8080/",
          "height": 34
        },
        "outputId": "8ee3d910-fb03-4630-89aa-071f0419d105"
      },
      "cell_type": "code",
      "source": [
        "!git init"
      ],
      "execution_count": 19,
      "outputs": [
        {
          "output_type": "stream",
          "text": [
            "Initialized empty Git repository in /content/drive/My Drive/.git/\n"
          ],
          "name": "stdout"
        }
      ]
    },
    {
      "metadata": {
        "id": "12q-BdYMKkSE",
        "colab_type": "code",
        "colab": {
          "base_uri": "https://localhost:8080/",
          "height": 272
        },
        "outputId": "6d099e5b-74ea-4f1f-c803-83bedacb6b6a"
      },
      "cell_type": "code",
      "source": [
        "!git add ."
      ],
      "execution_count": 20,
      "outputs": [
        {
          "output_type": "stream",
          "text": [
            "warning: adding embedded git repository: Mask_RCNN\n",
            "hint: You've added another git repository inside your current repository.\n",
            "hint: Clones of the outer repository will not contain the contents of\n",
            "hint: the embedded repository and will not know how to obtain it.\n",
            "hint: If you meant to add a submodule, use:\n",
            "hint: \n",
            "hint: \tgit submodule add <url> Mask_RCNN\n",
            "hint: \n",
            "hint: If you added this path by mistake, you can remove it from the\n",
            "hint: index with:\n",
            "hint: \n",
            "hint: \tgit rm --cached Mask_RCNN\n",
            "hint: \n",
            "hint: See \"git help submodule\" for more information.\n",
            "^C\n"
          ],
          "name": "stdout"
        }
      ]
    },
    {
      "metadata": {
        "id": "DnIt9m_vKkQC",
        "colab_type": "code",
        "colab": {
          "base_uri": "https://localhost:8080/",
          "height": 34
        },
        "outputId": "3d08041b-53a6-48ab-8c71-5b94702b2fca"
      },
      "cell_type": "code",
      "source": [
        "cd .."
      ],
      "execution_count": 21,
      "outputs": [
        {
          "output_type": "stream",
          "text": [
            "/content/drive\n"
          ],
          "name": "stdout"
        }
      ]
    },
    {
      "metadata": {
        "id": "BvUyxyBHKkLc",
        "colab_type": "code",
        "colab": {
          "base_uri": "https://localhost:8080/",
          "height": 34
        },
        "outputId": "09c0862e-320e-44cd-fad9-e5f1c97de081"
      },
      "cell_type": "code",
      "source": [
        "cd /content/drive/My Drive/Mask_RCNN/logs/petro20190405T0821"
      ],
      "execution_count": 22,
      "outputs": [
        {
          "output_type": "stream",
          "text": [
            "/content/drive/My Drive/Mask_RCNN/logs/petro20190405T0821\n"
          ],
          "name": "stdout"
        }
      ]
    },
    {
      "metadata": {
        "id": "R5yC0g3tKkHR",
        "colab_type": "code",
        "colab": {
          "base_uri": "https://localhost:8080/",
          "height": 51
        },
        "outputId": "c1616b1e-d74a-4ae7-99b2-55228cf4a0e8"
      },
      "cell_type": "code",
      "source": [
        "!git push -u origin master"
      ],
      "execution_count": 23,
      "outputs": [
        {
          "output_type": "stream",
          "text": [
            "error: src refspec master does not match any.\n",
            "error: failed to push some refs to 'git@github.com:muhammadridwaniyas11/petro_iyas.git'\n"
          ],
          "name": "stdout"
        }
      ]
    },
    {
      "metadata": {
        "id": "uO4nmbjIIeKq",
        "colab_type": "code",
        "colab": {}
      },
      "cell_type": "code",
      "source": [
        ""
      ],
      "execution_count": 0,
      "outputs": []
    },
    {
      "metadata": {
        "id": "-CpNczsBIeNb",
        "colab_type": "code",
        "colab": {}
      },
      "cell_type": "code",
      "source": [
        ""
      ],
      "execution_count": 0,
      "outputs": []
    },
    {
      "metadata": {
        "id": "L-rsbDbmIeQA",
        "colab_type": "code",
        "colab": {}
      },
      "cell_type": "code",
      "source": [
        ""
      ],
      "execution_count": 0,
      "outputs": []
    },
    {
      "metadata": {
        "id": "zMq58F-JIeSZ",
        "colab_type": "code",
        "colab": {}
      },
      "cell_type": "code",
      "source": [
        ""
      ],
      "execution_count": 0,
      "outputs": []
    },
    {
      "metadata": {
        "id": "8OC9TeqkId1P",
        "colab_type": "code",
        "colab": {}
      },
      "cell_type": "code",
      "source": [
        ""
      ],
      "execution_count": 0,
      "outputs": []
    },
    {
      "metadata": {
        "id": "1reeihlXIdsh",
        "colab_type": "code",
        "colab": {}
      },
      "cell_type": "code",
      "source": [
        ""
      ],
      "execution_count": 0,
      "outputs": []
    }
  ]
}